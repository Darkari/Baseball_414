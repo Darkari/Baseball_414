{
 "cells": [
  {
   "cell_type": "code",
   "execution_count": 1,
   "metadata": {
    "collapsed": true
   },
   "outputs": [],
   "source": [
    "# data input\n",
    "baseball = read.csv(\"baseball.csv\")\n",
    "weather = read.csv(\"weather.csv\")\n",
    "baseball<- merge(baseball, weather,by.x = 'event_date',by.y = 'date')\n",
    "\n",
    "baseball$event_date = as.Date (baseball$event_date, \"%Y-%m-%d\")\n",
    "baseball$weekday = weekdays(baseball$event_date)\n",
    "baseball$event_time = as.numeric(substr(baseball$event_time,1,2))\n",
    "\n",
    "baseball$timeofday <- ifelse(baseball$event_time<19,\n",
    "                             c(\"Afternoon\"),c(\"Evening\"))\n"
   ]
  },
  {
   "cell_type": "code",
   "execution_count": 2,
   "metadata": {},
   "outputs": [
    {
     "data": {
      "text/plain": [
       "\n",
       "Call:\n",
       "lm(formula = attendance ~ tickets_sold + tickets_resale, data = subset(baseball, \n",
       "    season <= 2014))\n",
       "\n",
       "Residuals:\n",
       "   Min     1Q Median     3Q    Max \n",
       "-11352  -1034    372   1546   4907 \n",
       "\n",
       "Coefficients:\n",
       "                 Estimate Std. Error t value Pr(>|t|)    \n",
       "(Intercept)    -4.559e+03  4.876e+02  -9.350  < 2e-16 ***\n",
       "tickets_sold    8.665e-01  2.119e-02  40.898  < 2e-16 ***\n",
       "tickets_resale  5.234e-01  9.415e-02   5.559 5.71e-08 ***\n",
       "---\n",
       "Signif. codes:  0 ‘***’ 0.001 ‘**’ 0.01 ‘*’ 0.05 ‘.’ 0.1 ‘ ’ 1\n",
       "\n",
       "Residual standard error: 2141 on 321 degrees of freedom\n",
       "Multiple R-squared:  0.9477,\tAdjusted R-squared:  0.9474 \n",
       "F-statistic:  2910 on 2 and 321 DF,  p-value: < 2.2e-16\n"
      ]
     },
     "metadata": {},
     "output_type": "display_data"
    },
    {
     "data": {
      "text/html": [
       "4153843.98635382"
      ],
      "text/latex": [
       "4153843.98635382"
      ],
      "text/markdown": [
       "4153843.98635382"
      ],
      "text/plain": [
       "[1] 4153844"
      ]
     },
     "metadata": {},
     "output_type": "display_data"
    }
   ],
   "source": [
    "# test 1 tickets\n",
    "mod1=lm(attendance~tickets_sold+tickets_resale, data=subset(baseball, season <= 2014))\n",
    "pr1<-predict(mod1,newdata = subset(baseball, season > 2014))\n",
    "mspe1<-mean((pr1-subset(baseball, season > 2014)$attendance)^2)\n",
    "\n",
    "summary(mod1)\n",
    "mspe1"
   ]
  },
  {
   "cell_type": "code",
   "execution_count": 3,
   "metadata": {},
   "outputs": [
    {
     "data": {
      "text/plain": [
       "\n",
       "Call:\n",
       "lm(formula = attendance ~ timeofday + weekday, data = subset(baseball, \n",
       "    season <= 2014))\n",
       "\n",
       "Residuals:\n",
       "   Min     1Q Median     3Q    Max \n",
       "-22399  -4738   -867   3481  28148 \n",
       "\n",
       "Coefficients:\n",
       "                 Estimate Std. Error t value Pr(>|t|)    \n",
       "(Intercept)       31084.5     1548.6  20.073  < 2e-16 ***\n",
       "timeofdayEvening    107.3     1168.5   0.092  0.92689    \n",
       "weekdayMonday    -11731.3     1566.5  -7.489 6.99e-13 ***\n",
       "weekdaySaturday    1717.0     1502.0   1.143  0.25384    \n",
       "weekdaySunday     -4823.7     1744.5  -2.765  0.00602 ** \n",
       "weekdayThursday  -11021.9     1673.5  -6.586 1.89e-10 ***\n",
       "weekdayTuesday   -12566.9     1452.3  -8.653 2.59e-16 ***\n",
       "weekdayWednesday -12746.9     1486.8  -8.573 4.56e-16 ***\n",
       "---\n",
       "Signif. codes:  0 ‘***’ 0.001 ‘**’ 0.01 ‘*’ 0.05 ‘.’ 0.1 ‘ ’ 1\n",
       "\n",
       "Residual standard error: 7328 on 316 degrees of freedom\n",
       "Multiple R-squared:  0.3972,\tAdjusted R-squared:  0.3838 \n",
       "F-statistic: 29.74 on 7 and 316 DF,  p-value: < 2.2e-16\n"
      ]
     },
     "metadata": {},
     "output_type": "display_data"
    },
    {
     "data": {
      "text/html": [
       "81925237.0384453"
      ],
      "text/latex": [
       "81925237.0384453"
      ],
      "text/markdown": [
       "81925237.0384453"
      ],
      "text/plain": [
       "[1] 81925237"
      ]
     },
     "metadata": {},
     "output_type": "display_data"
    }
   ],
   "source": [
    "# test 2 time\n",
    "mod2=lm(attendance~timeofday+weekday, data=subset(baseball, season <= 2014))\n",
    "pr2<-predict(mod2,newdata = subset(baseball, season > 2014))\n",
    "mspe2<-mean((pr2-subset(baseball, season > 2014)$attendance)^2)\n",
    "\n",
    "summary(mod2)\n",
    "mspe2"
   ]
  },
  {
   "cell_type": "code",
   "execution_count": 5,
   "metadata": {},
   "outputs": [
    {
     "data": {
      "text/plain": [
       "\n",
       "Call:\n",
       "lm(formula = attendance ~ weather + mean_temp, data = subset(baseball, \n",
       "    season <= 2014))\n",
       "\n",
       "Residuals:\n",
       "     Min       1Q   Median       3Q      Max \n",
       "-20096.5  -7584.7   -638.9   6570.1  23939.8 \n",
       "\n",
       "Coefficients:\n",
       "             Estimate Std. Error t value Pr(>|t|)    \n",
       "(Intercept)  25106.47    4484.13   5.599 4.64e-08 ***\n",
       "weatherRain  -2398.99    3413.27  -0.703    0.483    \n",
       "weatherSunny -1939.34    3384.07  -0.573    0.567    \n",
       "mean_temp       53.37     127.94   0.417    0.677    \n",
       "---\n",
       "Signif. codes:  0 ‘***’ 0.001 ‘**’ 0.01 ‘*’ 0.05 ‘.’ 0.1 ‘ ’ 1\n",
       "\n",
       "Residual standard error: 9368 on 320 degrees of freedom\n",
       "Multiple R-squared:  0.002364,\tAdjusted R-squared:  -0.006989 \n",
       "F-statistic: 0.2527 on 3 and 320 DF,  p-value: 0.8594\n"
      ]
     },
     "metadata": {},
     "output_type": "display_data"
    },
    {
     "data": {
      "text/html": [
       "112650351.459651"
      ],
      "text/latex": [
       "112650351.459651"
      ],
      "text/markdown": [
       "112650351.459651"
      ],
      "text/plain": [
       "[1] 112650351"
      ]
     },
     "metadata": {},
     "output_type": "display_data"
    }
   ],
   "source": [
    "# test 3 weather & temp\n",
    "mod3=lm(attendance~weather+mean_temp, data=subset(baseball, season <= 2014))\n",
    "pr3<-predict(mod3,newdata =subset(baseball, season > 2014))\n",
    "mspe3<-mean((pr3-subset(baseball, season > 2014)$attendance)^2)\n",
    "\n",
    "summary(mod3)\n",
    "mspe3\n"
   ]
  },
  {
   "cell_type": "code",
   "execution_count": 6,
   "metadata": {},
   "outputs": [
    {
     "data": {
      "text/plain": [
       "\n",
       "Call:\n",
       "lm(formula = attendance ~ opponent_win_pcnt + braves_win_pcnt, \n",
       "    data = subset(baseball, season <= 2014))\n",
       "\n",
       "Residuals:\n",
       "     Min       1Q   Median       3Q      Max \n",
       "-20207.5  -7744.5   -182.7   6433.2  24102.9 \n",
       "\n",
       "Coefficients:\n",
       "                  Estimate Std. Error t value Pr(>|t|)    \n",
       "(Intercept)          10081      18013   0.560 0.576101    \n",
       "opponent_win_pcnt    27727       7505   3.694 0.000259 ***\n",
       "braves_win_pcnt       1034      30395   0.034 0.972885    \n",
       "---\n",
       "Signif. codes:  0 ‘***’ 0.001 ‘**’ 0.01 ‘*’ 0.05 ‘.’ 0.1 ‘ ’ 1\n",
       "\n",
       "Residual standard error: 9171 on 321 degrees of freedom\n",
       "Multiple R-squared:  0.04094,\tAdjusted R-squared:  0.03497 \n",
       "F-statistic: 6.852 on 2 and 321 DF,  p-value: 0.001219\n"
      ]
     },
     "metadata": {},
     "output_type": "display_data"
    },
    {
     "data": {
      "text/html": [
       "113622445.705691"
      ],
      "text/latex": [
       "113622445.705691"
      ],
      "text/markdown": [
       "113622445.705691"
      ],
      "text/plain": [
       "[1] 113622446"
      ]
     },
     "metadata": {},
     "output_type": "display_data"
    }
   ],
   "source": [
    "# test 4 win_pcnt\n",
    "mod4=lm(attendance~opponent_win_pcnt+braves_win_pcnt, data=subset(baseball, season <= 2014))\n",
    "pr4<-predict(mod4,newdata = subset(baseball, season > 2014))\n",
    "mspe4<-mean((pr4-subset(baseball, season > 2014)$attendance)^2)\n",
    "\n",
    "summary(mod4)\n",
    "mspe4\n"
   ]
  },
  {
   "cell_type": "code",
   "execution_count": 7,
   "metadata": {},
   "outputs": [
    {
     "data": {
      "text/plain": [
       "\n",
       "Call:\n",
       "lm(formula = attendance ~ tickets_sold + tickets_resale + weekday + \n",
       "    weather + mean_temp + opponent_win_pcnt, data = subset(baseball, \n",
       "    season <= 2014))\n",
       "\n",
       "Residuals:\n",
       "     Min       1Q   Median       3Q      Max \n",
       "-10819.7   -960.9    296.4   1347.0   4235.0 \n",
       "\n",
       "Coefficients:\n",
       "                    Estimate Std. Error t value Pr(>|t|)    \n",
       "(Intercept)        2.001e+02  1.432e+03   0.140   0.8889    \n",
       "tickets_sold       8.436e-01  2.265e-02  37.247  < 2e-16 ***\n",
       "tickets_resale     5.375e-01  9.421e-02   5.706  2.7e-08 ***\n",
       "weekdayMonday     -1.176e+03  4.733e+02  -2.485   0.0135 *  \n",
       "weekdaySaturday   -2.799e+02  4.094e+02  -0.684   0.4947    \n",
       "weekdaySunday     -6.385e+02  4.188e+02  -1.524   0.1284    \n",
       "weekdayThursday   -1.144e+03  4.965e+02  -2.305   0.0218 *  \n",
       "weekdayTuesday    -1.087e+03  4.516e+02  -2.407   0.0167 *  \n",
       "weekdayWednesday  -9.023e+02  4.559e+02  -1.979   0.0487 *  \n",
       "weatherRain       -1.770e+03  7.574e+02  -2.337   0.0201 *  \n",
       "weatherSunny      -7.725e+02  7.530e+02  -1.026   0.3058    \n",
       "mean_temp         -4.672e+01  2.836e+01  -1.647   0.1005    \n",
       "opponent_win_pcnt -2.216e+03  1.755e+03  -1.263   0.2076    \n",
       "---\n",
       "Signif. codes:  0 ‘***’ 0.001 ‘**’ 0.01 ‘*’ 0.05 ‘.’ 0.1 ‘ ’ 1\n",
       "\n",
       "Residual standard error: 2063 on 311 degrees of freedom\n",
       "Multiple R-squared:  0.953,\tAdjusted R-squared:  0.9512 \n",
       "F-statistic: 525.5 on 12 and 311 DF,  p-value: < 2.2e-16\n"
      ]
     },
     "metadata": {},
     "output_type": "display_data"
    },
    {
     "data": {
      "text/html": [
       "4510149.46740797"
      ],
      "text/latex": [
       "4510149.46740797"
      ],
      "text/markdown": [
       "4510149.46740797"
      ],
      "text/plain": [
       "[1] 4510149"
      ]
     },
     "metadata": {},
     "output_type": "display_data"
    }
   ],
   "source": [
    "# 5 general model\n",
    "mod5=lm(attendance~tickets_sold+tickets_resale+weekday+weather+mean_temp+opponent_win_pcnt, data=subset(baseball, season <= 2014))\n",
    "pr5<-predict(mod5,newdata = subset(baseball, season > 2014))\n",
    "mspe5<-mean((pr5-subset(baseball, season > 2014)$attendance)^2)\n",
    "\n",
    "summary(mod5)\n",
    "mspe5\n"
   ]
  },
  {
   "cell_type": "code",
   "execution_count": 8,
   "metadata": {},
   "outputs": [
    {
     "data": {
      "text/plain": [
       "\n",
       "Call:\n",
       "lm(formula = attendance ~ tickets_sold + tickets_resale + mean_temp + \n",
       "    weather + opponent_win_pcnt, data = subset(baseball, season <= \n",
       "    2014))\n",
       "\n",
       "Residuals:\n",
       "     Min       1Q   Median       3Q      Max \n",
       "-10581.5   -961.7    343.5   1424.4   4315.4 \n",
       "\n",
       "Coefficients:\n",
       "                    Estimate Std. Error t value Pr(>|t|)    \n",
       "(Intercept)       -1.038e+03  1.364e+03  -0.761   0.4474    \n",
       "tickets_sold       8.664e-01  2.058e-02  42.099  < 2e-16 ***\n",
       "tickets_resale     5.568e-01  9.166e-02   6.075 3.56e-09 ***\n",
       "mean_temp         -5.079e+01  2.846e+01  -1.785   0.0753 .  \n",
       "weatherRain       -1.759e+03  7.561e+02  -2.327   0.0206 *  \n",
       "weatherSunny      -7.185e+02  7.507e+02  -0.957   0.3393    \n",
       "opponent_win_pcnt -2.577e+03  1.756e+03  -1.468   0.1432    \n",
       "---\n",
       "Signif. codes:  0 ‘***’ 0.001 ‘**’ 0.01 ‘*’ 0.05 ‘.’ 0.1 ‘ ’ 1\n",
       "\n",
       "Residual standard error: 2074 on 317 degrees of freedom\n",
       "Multiple R-squared:  0.9516,\tAdjusted R-squared:  0.9507 \n",
       "F-statistic:  1038 on 6 and 317 DF,  p-value: < 2.2e-16\n"
      ]
     },
     "metadata": {},
     "output_type": "display_data"
    },
    {
     "data": {
      "text/html": [
       "4249832.62255936"
      ],
      "text/latex": [
       "4249832.62255936"
      ],
      "text/markdown": [
       "4249832.62255936"
      ],
      "text/plain": [
       "[1] 4249833"
      ]
     },
     "metadata": {},
     "output_type": "display_data"
    }
   ],
   "source": [
    "# 6 final model\n",
    "mod6=lm(attendance~tickets_sold+tickets_resale+mean_temp+weather+opponent_win_pcnt, data=subset(baseball, season <= 2014))\n",
    "pr6<-predict(mod6,newdata =subset(baseball, season > 2014))\n",
    "mspe6<-mean((pr6-subset(baseball, season > 2014)$attendance)^2)\n",
    "\n",
    "summary(mod6)\n",
    "mspe6"
   ]
  },
  {
   "cell_type": "code",
   "execution_count": 9,
   "metadata": {},
   "outputs": [
    {
     "data": {
      "image/png": "[encoded data removed]",
      "text/plain": [
       "plot without title"
      ]
     },
     "metadata": {},
     "output_type": "display_data"
    }
   ],
   "source": [
    "## math formula\n",
    "\n",
    "pred_attendance=predict(mod6,newdata = subset(baseball, season > 2014))\n",
    "actual_attendance=subset(baseball, season > 2014)$attendance\n",
    "\n",
    "plot(actual_attendance, pred_attendance)\n",
    "abline(0,1)\n",
    "\n"
   ]
  },
  {
   "cell_type": "code",
   "execution_count": 10,
   "metadata": {},
   "outputs": [
    {
     "data": {
      "text/html": [
       "<dl class=dl-horizontal>\n",
       "\t<dt>(Intercept)</dt>\n",
       "\t\t<dd>-1037.77018508154</dd>\n",
       "\t<dt>tickets_sold</dt>\n",
       "\t\t<dd>0.866385250489893</dd>\n",
       "\t<dt>tickets_resale</dt>\n",
       "\t\t<dd>0.556801777923788</dd>\n",
       "\t<dt>weatherRain</dt>\n",
       "\t\t<dd>-1759.13221118754</dd>\n",
       "\t<dt>weatherSunny</dt>\n",
       "\t\t<dd>-718.522623735142</dd>\n",
       "\t<dt>mean_temp</dt>\n",
       "\t\t<dd>-50.7854944958126</dd>\n",
       "\t<dt>opponent_win_pcnt</dt>\n",
       "\t\t<dd>-2577.13841843179</dd>\n",
       "</dl>\n"
      ],
      "text/latex": [
       "\\begin{description*}\n",
       "\\item[(Intercept)] -1037.77018508154\n",
       "\\item[tickets\\textbackslash{}\\_sold] 0.866385250489893\n",
       "\\item[tickets\\textbackslash{}\\_resale] 0.556801777923788\n",
       "\\item[weatherRain] -1759.13221118754\n",
       "\\item[weatherSunny] -718.522623735142\n",
       "\\item[mean\\textbackslash{}\\_temp] -50.7854944958126\n",
       "\\item[opponent\\textbackslash{}\\_win\\textbackslash{}\\_pcnt] -2577.13841843179\n",
       "\\end{description*}\n"
      ],
      "text/markdown": [
       "(Intercept)\n",
       ":   -1037.77018508154tickets_sold\n",
       ":   0.866385250489893tickets_resale\n",
       ":   0.556801777923788weatherRain\n",
       ":   -1759.13221118754weatherSunny\n",
       ":   -718.522623735142mean_temp\n",
       ":   -50.7854944958126opponent_win_pcnt\n",
       ":   -2577.13841843179\n",
       "\n"
      ],
      "text/plain": [
       "      (Intercept)      tickets_sold    tickets_resale       weatherRain \n",
       "    -1037.7701851         0.8663853         0.5568018     -1759.1322112 \n",
       "     weatherSunny         mean_temp opponent_win_pcnt \n",
       "     -718.5226237       -50.7854945     -2577.1384184 "
      ]
     },
     "metadata": {},
     "output_type": "display_data"
    },
    {
     "data": {
      "text/html": [
       "4249832.62255936"
      ],
      "text/latex": [
       "4249832.62255936"
      ],
      "text/markdown": [
       "4249832.62255936"
      ],
      "text/plain": [
       "[1] 4249833"
      ]
     },
     "metadata": {},
     "output_type": "display_data"
    }
   ],
   "source": [
    "##StepWise\n",
    "library(MASS)\n",
    "#splitting trainning and testing dataset\n",
    "dat.tr<-subset(baseball,event_date>=\"2011-01-01\"& event_date<=\"2014-12-31\",select = -c(event_time,event_id,event_date,season))\n",
    "dat.te<-subset(baseball,event_date>=\"2015-01-01\",select = -c(event_time,event_id,event_date,season))\n",
    "null<-lm(attendance~1,data = dat.tr)\n",
    "full<-lm(attendance~.,data = dat.tr)\n",
    "set.seed(123)\n",
    "st <- stepAIC(null, scope=list(lower=null, upper=full), trace=FALSE)\n",
    "pr_aic<-predict(st,newdata = dat.te)\n",
    "mspe_aic<-mean((pr_aic-dat.te$attendance)^2)\n",
    "\n",
    "coef(st)\n",
    "mspe_aic"
   ]
  },
  {
   "cell_type": "code",
   "execution_count": 15,
   "metadata": {},
   "outputs": [
    {
     "name": "stderr",
     "output_type": "stream",
     "text": [
      "Installing package into ‘/home/lian6/R/x86_64-pc-linux-gnu-library/3.1’\n",
      "(as ‘lib’ is unspecified)\n",
      "Loading required package: Matrix\n",
      "Loading required package: foreach\n",
      "Loaded glmnet 2.0-13\n",
      "\n"
     ]
    }
   ],
   "source": [
    "##Since there exist some extent of correlation between independent variable (like oppo_rank and oppo_win_pect), Using Lasso for variable selection would be appropriate\n",
    "##details in https://cran.r-project.org/web/packages/glmnet/glmnet.pdf\n",
    "\n",
    "#duplicate orginal data\n",
    "lasso.dat<-baseball\n",
    "#Factoriaze character data\n",
    "lasso.dat$timeofday<-as.factor(lasso.dat$timeofday)\n",
    "lasso.dat$weekday<-as.factor(lasso.dat$weekday)\n",
    "#create dummy variables for catogorical variables\n",
    "for(level in unique(lasso.dat$timeofday)){\n",
    "  lasso.dat[paste(\"dummy\", level, sep = \"_\")] <- ifelse(lasso.dat$timeofday == level, 1, 0)\n",
    "}\n",
    "for(level in unique(lasso.dat$weekday)){\n",
    "  lasso.dat[paste(\"dummy\", level, sep = \"_\")] <- ifelse(lasso.dat$weekday == level, 1, 0)\n",
    "}\n",
    "for(level in unique(lasso.dat$weather)){\n",
    "  lasso.dat[paste(\"dummy\", level, sep = \"_\")] <- ifelse(lasso.dat$weather == level, 1, 0)\n",
    "}\n",
    "#Create trainning and testing dataset\n",
    "dat.tr<-subset(lasso.dat,event_date>=\"2011-01-01\"& event_date<=\"2014-12-31\",select = -c(event_time,event_id,event_date,season,opponent,timeofday,weekday,weather))\n",
    "dat.te<-subset(lasso.dat,event_date>=\"2015-01-01\",select = -c(event_time,event_id,event_date,season,opponent,timeofday,weekday,weather))\n",
    "#trainning lasso model\n",
    "install.packages('glmnet')\n",
    "library(glmnet)\n",
    "xm<-as.matrix(dat.tr[,-2])\n",
    "y<-as.vector(dat.tr[,2])\n",
    "xte<-as.matrix(dat.te[,-2])\n",
    "yte<-as.vector(dat.te[,2])\n",
    "set.seed(1234)\n",
    "tmp_las<-cv.glmnet(x=xm,y=y,nfolds = 5,alpha=1,family='gaussian',intercept=TRUE)\n",
    "pr_las<-predict(tmp_las,s='lambda.min',newx = xte)\n",
    "mspe_las<-mean((pr_las-yte)^2)"
   ]
  },
  {
   "cell_type": "code",
   "execution_count": 16,
   "metadata": {},
   "outputs": [
    {
     "data": {
      "text/plain": [
       "23 x 1 sparse Matrix of class \"dgCMatrix\"\n",
       "                              1\n",
       "(Intercept)       -3531.5751923\n",
       "win                  31.3616523\n",
       "tickets_sold          0.8497911\n",
       "tickets_resale        0.4851607\n",
       "opponent_payroll      .        \n",
       "opponent_rank         .        \n",
       "opponent_win_pcnt     .        \n",
       "braves_payroll        .        \n",
       "braves_rank           .        \n",
       "braves_win_pcnt       .        \n",
       "mean_temp           -10.0274554\n",
       "dummy_Evening         .        \n",
       "dummy_Afternoon       .        \n",
       "dummy_Friday        514.5859031\n",
       "dummy_Saturday      266.8608141\n",
       "dummy_Sunday          .        \n",
       "dummy_Tuesday         .        \n",
       "dummy_Wednesday       .        \n",
       "dummy_Thursday        .        \n",
       "dummy_Monday         -3.5190358\n",
       "dummy_Sunny           .        \n",
       "dummy_Rain         -723.9546115\n",
       "dummy_Foggy         115.1437471"
      ]
     },
     "metadata": {},
     "output_type": "display_data"
    },
    {
     "data": {
      "text/html": [
       "4364045.11550816"
      ],
      "text/latex": [
       "4364045.11550816"
      ],
      "text/markdown": [
       "4364045.11550816"
      ],
      "text/plain": [
       "[1] 4364045"
      ]
     },
     "metadata": {},
     "output_type": "display_data"
    }
   ],
   "source": [
    "coef(tmp_las, s=tmp_las$lambda.min)\n",
    "mspe_las"
   ]
  },
  {
   "cell_type": "code",
   "execution_count": null,
   "metadata": {
    "collapsed": true
   },
   "outputs": [],
   "source": [
    "#The result is similar to the model we get using stepwise with slighly larger mspe\n",
    "#we can see that the attendace in Friday and Saturday are higher than attendance in other days\n",
    "#But considering the predicitng power, we will not include 'weekday' attribute in our final model"
   ]
  }
 ],
 "metadata": {
  "kernelspec": {
   "display_name": "R",
   "language": "R",
   "name": "ir"
  },
  "language_info": {
   "codemirror_mode": "r",
   "file_extension": ".r",
   "mimetype": "text/x-r-source",
   "name": "R",
   "pygments_lexer": "r",
   "version": "3.3.2"
  }
 },
 "nbformat": 4,
 "nbformat_minor": 2
}
